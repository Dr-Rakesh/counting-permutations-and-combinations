{
 "cells": [
  {
   "cell_type": "markdown",
   "id": "4a8f95d5",
   "metadata": {},
   "source": [
    "# Introduction to Counting, Permutations and Combinations\n",
    "\n",
    "![](https://i.imgur.com/B2lB620.jpg)\n",
    "\n",
    "Solving problems in statistics and probability often involves counting events satisfying a criteria without listing them out. In this tutorial, we'll learn some basic counting techniques that can be combined in interesting ways. This tutorial covers the following topics:\n",
    "\n",
    "- Multiplication principle\n",
    "- Factorial rule\n",
    "- Permutations rule\n",
    "- Combinations rule\n",
    "- Computing probability using counting rules"
   ]
  },
  {
   "cell_type": "markdown",
   "id": "c8194e8a",
   "metadata": {},
   "source": [
    "## Multiplication Principle of Counting\n",
    "\n",
    "> **QUESTION**: Your neighborhood Mexican restaurant \"Tacos El Vegano\" offer a \"build your own burrito\" option and claims that you create over 250 unique varieties by making the following choices:\n",
    ">\n",
    "> \n",
    "> \n",
    "> 1. Choice of tortilla: white flour or whole wheat flour\n",
    "> 2. Choice of filling: potatoes, jackfruit or mushroom\n",
    "> 3. Choice of beans: red beans, black beans, kidney beans or no beans\n",
    "> 4. Choice of salad: lettuce, rocket or no salad\n",
    "> 5. Choice of grilled vegetables: yes or no\n",
    "> 6. Choice of guacamole: yes or no\n",
    ">\n",
    "> <img src=\"https://i.imgur.com/1vx5O8w.png\" width=\"360\" style=\"border-radius:4px\">\n",
    ">\n",
    "> All the choices are made independently i.e. the choice of beans has no bearing on whether or not you can add guacamole and vice versa. Can you verify or refute this claim?\n",
    ">\n",
    "\n",
    "\n"
   ]
  },
  {
   "cell_type": "markdown",
   "id": "0866f778",
   "metadata": {},
   "source": [
    "One way to check the validity of the claim is to systematically list all possible varieties:\n",
    "\n",
    "1. White flour, Potatoes, Red beans, Lettuce, Vegetables, Gaucamole\n",
    "2. White flour, Potatoes, Red beans, Lettuce, Vegetables, No Gaucamole\n",
    "3. White flour, Potatoes, Red beans, Lettuce, No Vegetables, Gaucamole\n",
    "4. White flour, Potatoes, Red beans, Lettuce, No Vegetables, No Gaucamole\n",
    "5. White flour, Potatoes, Red beans, Rocket, Vegetables, Gaucamole\n",
    "6. ...\n",
    "\n",
    "\n",
    "This is a long, tedious and error prone process. Fortunately, there's an easier way:\n",
    "\n",
    "![](https://i.imgur.com/nf3OD3L.png)\n",
    "\n",
    "\n",
    "* There are 2 choices for the tortilla (white flour or whole wheat flour). \n",
    "* Once a choice of tortilla is made, then the filling can be chosen in 3 ways (potatoes, jack fruit or mushroom) for each of the two choices. So, if we just consider the first two choices, we can create 3 + 3 = 2 * 3 = 6 total varieties. \n",
    "* Next, for each of these 6 combinations, we have 4 choices of beans (red beans, black beans, kidney beans or no beans). Thus the total number of varieties considering the first three choices are is 4 + 4 + 4 + 4 + 4 + 4 = 6 * 4 = 24.\n",
    "* and so on...\n",
    "\n",
    "If you keep going, you will realize that the total number of varieties is simply the product of the number of options for each choice. We can compute this using Python:"
   ]
  },
  {
   "cell_type": "code",
   "execution_count": 1,
   "id": "560f7714",
   "metadata": {},
   "outputs": [],
   "source": [
    "n_tortilla = 2\n",
    "n_filling = 3\n",
    "n_beans = 4\n",
    "n_salad = 3\n",
    "n_vegetables = 2\n",
    "n_guacamole = 2"
   ]
  },
  {
   "cell_type": "code",
   "execution_count": 2,
   "id": "6e064f47",
   "metadata": {},
   "outputs": [],
   "source": [
    "n_variations = n_tortilla * n_filling * n_beans * n_salad * n_vegetables * n_guacamole"
   ]
  },
  {
   "cell_type": "code",
   "execution_count": 3,
   "id": "8dc66861",
   "metadata": {},
   "outputs": [
    {
     "name": "stdout",
     "output_type": "stream",
     "text": [
      "Tacos El Vegano offers 288 variations of burritos.\n"
     ]
    }
   ],
   "source": [
    "print('Tacos El Vegano offers {} variations of burritos.'.format(n_variations))"
   ]
  },
  {
   "cell_type": "markdown",
   "id": "6902242a",
   "metadata": {},
   "source": [
    "Turns out the restaurant's claim is valid after all! We can generalize the above result as follows:\n",
    "\n",
    "**Multiplication Principle**:  If we have $k$ independent choices to make, and the number of options for each choice are $x_1, x_2, x_3, \\ldots, x_k$, then we can make all of the choices in $x_1 \\times x_2 \\times x_3 \\times \\ldots \\times x_k$ ways.\n",
    "\n",
    "A special case of the multiplication principle is when the number of options is the same for each choice. This happens when we make the same choice many times.  \n",
    "\n",
    "**Repeated Choice Rule**: If we have $k$ independent choices to make, and the number of options for each choice is $n$, then we can make all the choices in $n^k$ ways.\n",
    "\n"
   ]
  },
  {
   "cell_type": "markdown",
   "id": "a7e073a6",
   "metadata": {},
   "source": [
    "> **EXERCISE**: If you flip 10 coins, how many possible outcomes can you get?"
   ]
  },
  {
   "cell_type": "code",
   "execution_count": 5,
   "id": "42ec8abf",
   "metadata": {},
   "outputs": [
    {
     "data": {
      "text/plain": [
       "1024"
      ]
     },
     "execution_count": 5,
     "metadata": {},
     "output_type": "execute_result"
    }
   ],
   "source": [
    "k = 10\n",
    "n=2\n",
    "outcome = n**k\n",
    "outcome"
   ]
  },
  {
   "cell_type": "markdown",
   "id": "57067f8a",
   "metadata": {},
   "source": [
    "> **EXERCISE**: If you roll 6 fair dice, how many possible outcomes can you get?"
   ]
  },
  {
   "cell_type": "code",
   "execution_count": 6,
   "id": "0a0603cd",
   "metadata": {},
   "outputs": [
    {
     "data": {
      "text/plain": [
       "46656"
      ]
     },
     "execution_count": 6,
     "metadata": {},
     "output_type": "execute_result"
    }
   ],
   "source": [
    "k = 6\n",
    "n = 6\n",
    "outcome = n**k\n",
    "outcome"
   ]
  },
  {
   "cell_type": "code",
   "execution_count": 10,
   "id": "07dbbd12",
   "metadata": {},
   "outputs": [
    {
     "data": {
      "text/plain": [
       "6"
      ]
     },
     "execution_count": 10,
     "metadata": {},
     "output_type": "execute_result"
    }
   ],
   "source": [
    "k = 6\n",
    "n = 36\n",
    "outcome = n//k\n",
    "outcome"
   ]
  },
  {
   "cell_type": "markdown",
   "id": "e924b433",
   "metadata": {},
   "source": [
    "> **EXERCISE**: If you flip a coin, roll a die and pick a random card from a well-shuffled deck, how many possible outcomes can you get?"
   ]
  },
  {
   "cell_type": "code",
   "execution_count": 73,
   "id": "bded7b76",
   "metadata": {},
   "outputs": [
    {
     "name": "stdout",
     "output_type": "stream",
     "text": [
      "25\n"
     ]
    }
   ],
   "source": [
    "k = 6\n",
    "n = 625\n",
    "t = []\n",
    "u = []\n",
    "for i in range(1,100):\n",
    "    outcome = n//i\n",
    "    t.append(outcome)\n",
    "    u.append(i)\n",
    "    if i == outcome:\n",
    "        print(i)"
   ]
  },
  {
   "cell_type": "code",
   "execution_count": 74,
   "id": "c82fd6f1",
   "metadata": {},
   "outputs": [],
   "source": [
    "r=(t,u)"
   ]
  },
  {
   "cell_type": "markdown",
   "id": "b48acd7d",
   "metadata": {},
   "source": [
    "Let's save our work before continuing."
   ]
  },
  {
   "cell_type": "code",
   "execution_count": 75,
   "id": "8431549f",
   "metadata": {},
   "outputs": [],
   "source": [
    "import jovian"
   ]
  },
  {
   "cell_type": "code",
   "execution_count": 76,
   "id": "453319ca",
   "metadata": {},
   "outputs": [
    {
     "data": {
      "application/javascript": [
       "window.require && require([\"base/js/namespace\"],function(Jupyter){Jupyter.notebook.save_checkpoint()})"
      ],
      "text/plain": [
       "<IPython.core.display.Javascript object>"
      ]
     },
     "metadata": {},
     "output_type": "display_data"
    },
    {
     "name": "stdout",
     "output_type": "stream",
     "text": [
      "[jovian] Updating notebook \"rakesh-rajagopalachary/counting-permutations-and-combinations\" on https://jovian.ai/\u001b[0m\n",
      "[jovian] Committed successfully! https://jovian.ai/rakesh-rajagopalachary/counting-permutations-and-combinations\u001b[0m\n"
     ]
    },
    {
     "data": {
      "text/plain": [
       "'https://jovian.ai/rakesh-rajagopalachary/counting-permutations-and-combinations'"
      ]
     },
     "execution_count": 76,
     "metadata": {},
     "output_type": "execute_result"
    }
   ],
   "source": [
    "jovian.commit()"
   ]
  },
  {
   "cell_type": "markdown",
   "id": "f68f0fa9",
   "metadata": {},
   "source": [
    "## Factorials\n",
    "\n",
    "> **QUESTION**: In how many ways can you seat 5 people on chairs numbered from 1 to 5?\n",
    "> \n",
    "> <img src=\"https://i.imgur.com/eLo4HFD.png\" width=\"420\">\n",
    "\n",
    "\n",
    "One way to determine the result is to list all possible arrangements systematically:\n",
    "\n",
    "1. A, B, C, D, E\n",
    "2. A, B, C, E, D\n",
    "3. A, B, D, C, E\n",
    "4. A, B, D, E, C\n",
    "5. ...\n",
    "\n",
    "This is a long, tedious and error prone process. However, we can apply the multiplication rule using the following insight:\n",
    "\n",
    "![](https://i.imgur.com/sbCygLM.png)\n",
    "\n",
    "1. We have 5 ways of choosing the person for seat number 1.\n",
    "2. Once a person is seated at seat no. 1, we have 4 ways of choosing the person for seat number 2 (because the person sitting on seat number 1 can't sit on seat number 2). Note that we have exactly 4 choices for the seat irrespective of which person we choose for seat 1.\n",
    "3. Once a person is seated at seat no. 2, we have 3 choices for choosing the person for seat number 3.\n",
    "4. Once a person is seated at seat no. 3, we have to choices for choosing the person at seat number 2.\n",
    "5. Once a person is seated at seat no. 3, we have just one choice to fill the remaining seat.\n",
    "\n",
    "\n",
    "Thus, by applying the multiplication rule, it follows that the total number of ways to seat five persons on five chairs is $5 \\times 4 \\times 3 \\times 2 \\times 1 = 120$. \n",
    "\n",
    "The product of numbers from $1$ to $5$ is also known as the factorial of $5$ and is represented using by the notation $5!$. In general $n!$ denotes the product of numbers from $1$ to $n$. $0!$ is defined as $1$ (can you guess why?). With this notation, we can now generalize the above result as follows:\n",
    "\n",
    "**Factorial Rule**: The number of ways of arranging $n$ items in list is $n!$ i.e. $n \\times (n-1) \\times (n-2) \\times \\ldots \\times 2 \\times 1 $.\n",
    "\n",
    "Let's define a function factorial which can help us compute this number easily."
   ]
  },
  {
   "cell_type": "code",
   "execution_count": 77,
   "id": "eea8f5c2",
   "metadata": {},
   "outputs": [],
   "source": [
    "def factorial(n):\n",
    "    result = 1\n",
    "    for i in range(1, n+1):\n",
    "        result = result * i\n",
    "    return result"
   ]
  },
  {
   "cell_type": "code",
   "execution_count": 78,
   "id": "7d8f071b",
   "metadata": {},
   "outputs": [
    {
     "data": {
      "text/plain": [
       "120"
      ]
     },
     "execution_count": 78,
     "metadata": {},
     "output_type": "execute_result"
    }
   ],
   "source": [
    "factorial(5)"
   ]
  },
  {
   "cell_type": "markdown",
   "id": "b0e93c44",
   "metadata": {},
   "source": [
    "> **EXERCISE**: If you pick out all the spades from a deck of cards, in how many ways can you arrange them in your hand?\n",
    "> \n",
    "> ![](https://i.imgur.com/XVscmAe.png)\n",
    ">\n",
    "> *Hint*: There are 13 spades."
   ]
  },
  {
   "cell_type": "code",
   "execution_count": 79,
   "id": "682857dc",
   "metadata": {},
   "outputs": [
    {
     "data": {
      "text/plain": [
       "6227020800"
      ]
     },
     "execution_count": 79,
     "metadata": {},
     "output_type": "execute_result"
    }
   ],
   "source": [
    "factorial(13)"
   ]
  },
  {
   "cell_type": "code",
   "execution_count": 80,
   "id": "9f04147e",
   "metadata": {},
   "outputs": [
    {
     "data": {
      "text/plain": [
       "20325604337285010030592"
      ]
     },
     "execution_count": 80,
     "metadata": {},
     "output_type": "execute_result"
    }
   ],
   "source": [
    "k = 13\n",
    "n = 52\n",
    "outcome = n**k\n",
    "outcome"
   ]
  },
  {
   "cell_type": "markdown",
   "id": "995d7e30",
   "metadata": {},
   "source": [
    "> **EXERCISE**: If you roll 6 dice together, in how many ways can you get 6 different numbers in the result e.g.  3,4,5,6,1,2."
   ]
  },
  {
   "cell_type": "code",
   "execution_count": 81,
   "id": "c57481b8",
   "metadata": {},
   "outputs": [
    {
     "data": {
      "text/plain": [
       "720"
      ]
     },
     "execution_count": 81,
     "metadata": {},
     "output_type": "execute_result"
    }
   ],
   "source": [
    "factorial(6)"
   ]
  },
  {
   "cell_type": "code",
   "execution_count": null,
   "id": "4b322595",
   "metadata": {},
   "outputs": [],
   "source": []
  },
  {
   "cell_type": "markdown",
   "id": "aac24d43",
   "metadata": {},
   "source": [
    "Let's save our work before continuing."
   ]
  },
  {
   "cell_type": "code",
   "execution_count": 82,
   "id": "a81fead0",
   "metadata": {},
   "outputs": [
    {
     "data": {
      "application/javascript": [
       "window.require && require([\"base/js/namespace\"],function(Jupyter){Jupyter.notebook.save_checkpoint()})"
      ],
      "text/plain": [
       "<IPython.core.display.Javascript object>"
      ]
     },
     "metadata": {},
     "output_type": "display_data"
    },
    {
     "name": "stdout",
     "output_type": "stream",
     "text": [
      "[jovian] Updating notebook \"rakesh-rajagopalachary/counting-permutations-and-combinations\" on https://jovian.ai/\u001b[0m\n",
      "[jovian] Committed successfully! https://jovian.ai/rakesh-rajagopalachary/counting-permutations-and-combinations\u001b[0m\n"
     ]
    },
    {
     "data": {
      "text/plain": [
       "'https://jovian.ai/rakesh-rajagopalachary/counting-permutations-and-combinations'"
      ]
     },
     "execution_count": 82,
     "metadata": {},
     "output_type": "execute_result"
    }
   ],
   "source": [
    "jovian.commit()"
   ]
  },
  {
   "cell_type": "markdown",
   "id": "8cbba347",
   "metadata": {},
   "source": [
    "## Permutations\n",
    "\n",
    "> **QUESTION**: In how many ways can you seat 6 people on 4 chairs numbered from 1 to 4?\n",
    ">\n",
    "> <img src=\"https://i.imgur.com/xVmrrBj.png\" width=\"360\">\n",
    "\n",
    "\n",
    "Let's apply the multiplication rule once again:\n",
    "\n",
    "1. We have 6 ways of choosing the person for seat number 1.\n",
    "2. Once a person is sitting at seat number 1, we have 5 ways of choosing a person for seat number 2.\n",
    "3. Once a person is sitting at seat number 2, we have 4 ways of choosing a person for seat number 3.\n",
    "4. Once a person is sitting at seat number 3, we have 3 ways of choosing a person for seat number 1.\n",
    "\n",
    "And we're done! Applying the multiplication rule, it follows that the number of ways of seating 6 people on 4 chairs is $6 \\times 5 \\times 4 \\times 3 = 360$.\n",
    "\n",
    "\n",
    "However, we can also write the expression has follows:\n",
    "\n",
    "$$6 \\times 5 \\times 4 \\times 3 = \\frac {6 \\times 5 \\times 4 \\times 3 \\times 2 \\times 1} {2 \\times 1} = \\frac{6!}{2!} = \\frac{6!}{(6-4)!}$$\n",
    "\n",
    "\n",
    "We can generalize the above result as follows:\n",
    "\n",
    "**Permutation rule**: The number of ways of arranging $k$ items in a list out of $n$ items is $n!/(n-k)!$. This number is also denoted as ${}^nP_k$.\n",
    "\n",
    "$${}^nP_k = \\frac{n!}{(n-k)!} = n \\times (n-1) \\times \\ldots \\times (n-k+1)$$\n",
    "\n",
    "Each arrangement of `k` out of `n` items is called a permutation. Let's write a helper function to count the number of permutations of `k` out of `n` items.\n"
   ]
  },
  {
   "cell_type": "code",
   "execution_count": 83,
   "id": "35f50681",
   "metadata": {},
   "outputs": [],
   "source": [
    "def permutations(n, k):\n",
    "    return factorial(n) // factorial(n-k)"
   ]
  },
  {
   "cell_type": "markdown",
   "id": "9d828cb2",
   "metadata": {},
   "source": [
    "> **EXERCISE**: You have 25 books but your bookshelf contains space for just 12 books. In how many ways can you arrange books on your bookshelf?"
   ]
  },
  {
   "cell_type": "code",
   "execution_count": 86,
   "id": "b7c1bc7f",
   "metadata": {},
   "outputs": [
    {
     "data": {
      "text/plain": [
       "2490952020480000"
      ]
     },
     "execution_count": 86,
     "metadata": {},
     "output_type": "execute_result"
    }
   ],
   "source": [
    "permutations(25, 12)"
   ]
  },
  {
   "cell_type": "code",
   "execution_count": null,
   "id": "0330a48f",
   "metadata": {},
   "outputs": [],
   "source": []
  },
  {
   "cell_type": "markdown",
   "id": "a2a35051",
   "metadata": {},
   "source": [
    "> **EXERCISE**: How many unique four letter words can you create using the English alphabet (A to Z)?"
   ]
  },
  {
   "cell_type": "code",
   "execution_count": null,
   "id": "488c031a",
   "metadata": {},
   "outputs": [],
   "source": []
  },
  {
   "cell_type": "code",
   "execution_count": null,
   "id": "d4aa38b4",
   "metadata": {},
   "outputs": [],
   "source": []
  },
  {
   "cell_type": "markdown",
   "id": "575cd6e3",
   "metadata": {},
   "source": [
    "> **EXERCISE**: How many unique four letter words can you create using the English alphabet (A to Z), if you aren't allowed to use a letter more than once?"
   ]
  },
  {
   "cell_type": "code",
   "execution_count": 87,
   "id": "d311f64e",
   "metadata": {},
   "outputs": [
    {
     "data": {
      "text/plain": [
       "358800"
      ]
     },
     "execution_count": 87,
     "metadata": {},
     "output_type": "execute_result"
    }
   ],
   "source": [
    "permutations(26, 4)"
   ]
  },
  {
   "cell_type": "code",
   "execution_count": null,
   "id": "1a39a484",
   "metadata": {},
   "outputs": [],
   "source": []
  },
  {
   "cell_type": "markdown",
   "id": "fd49cbf0",
   "metadata": {},
   "source": [
    "\n",
    "\n",
    "> **EXERCISE**: How many 3 digit numbers greater than 300 can you create using the digit 1, 2, 3, 5, 7 and 8? You are not allowed to use a digit more than once. How many of these numbers are odd?"
   ]
  },
  {
   "cell_type": "code",
   "execution_count": null,
   "id": "4a7d7b52",
   "metadata": {},
   "outputs": [],
   "source": []
  },
  {
   "cell_type": "code",
   "execution_count": null,
   "id": "19540c7d",
   "metadata": {},
   "outputs": [],
   "source": []
  },
  {
   "cell_type": "markdown",
   "id": "112a8071",
   "metadata": {},
   "source": [
    "> **EXERCISE**: In how many ways can you arrange 12 people in a circle?\n",
    "> \n",
    "> <img src=\"https://i.imgur.com/J738ur4.png\" width=\"360\">"
   ]
  },
  {
   "cell_type": "code",
   "execution_count": null,
   "id": "6f150905",
   "metadata": {},
   "outputs": [],
   "source": []
  },
  {
   "cell_type": "markdown",
   "id": "6223d01d",
   "metadata": {},
   "source": [
    "Let's save our work before continuing."
   ]
  },
  {
   "cell_type": "code",
   "execution_count": 2,
   "id": "f4ca59c0",
   "metadata": {},
   "outputs": [
    {
     "data": {
      "application/javascript": [
       "window.require && require([\"base/js/namespace\"],function(Jupyter){Jupyter.notebook.save_checkpoint()})"
      ],
      "text/plain": [
       "<IPython.core.display.Javascript object>"
      ]
     },
     "metadata": {},
     "output_type": "display_data"
    },
    {
     "name": "stdout",
     "output_type": "stream",
     "text": [
      "[jovian] Attempting to save notebook..\u001b[0m\n",
      "[jovian] Uploading notebook..\u001b[0m\n",
      "[jovian] Capturing environment..\u001b[0m\n",
      "[jovian] Committed successfully! https://jovian.ai/aakashns/counting-permutations-and-combinations\u001b[0m\n"
     ]
    },
    {
     "data": {
      "text/plain": [
       "'https://jovian.ai/aakashns/counting-permutations-and-combinations'"
      ]
     },
     "execution_count": 2,
     "metadata": {},
     "output_type": "execute_result"
    }
   ],
   "source": [
    "jovian.commit()"
   ]
  },
  {
   "cell_type": "markdown",
   "id": "dabd5eec",
   "metadata": {},
   "source": [
    "## Combinations\n",
    "\n",
    "> **QUESTION**: In how many ways can you choose 4 people out of a group of 6 people.\n",
    "\n",
    "Let's try to solve this problem step by step:\n",
    "\n",
    "* We already know from the permutation rule that we can arrange $4$ out of $6$ people in a list in ${}^6P_4$ ways. \n",
    "* However, we're no longer concerned with arrangement i.e. if we name the people A, B, C, D, E and F, then the arrangements ABCD, ACDB, ADCB all denote the same group. In fact, once $4$ people out of the $6$ have been chosen, we know from the factorial rule that there are $4!$ possible arrangements. \n",
    "* Thus, every $4!$ arrangements of any $4$ people denotes the same group. So, we can divide the total number of arrangements by $4!$ to determine the number of ways of choosing 4 people out of 6.\n",
    "\n",
    "\n",
    "$$\\textrm{No. of ways of choosing 4 people out of 6} = \\frac{\\textrm{No. of ways of arranging 4 people out of 6 in a list}}{\\textrm{No. of ways of arranging 4 people in a list}} = \\frac{{}^6P_4}{4!}$$\n",
    "\n",
    "This number is denoted by ${}^6C_4$. Simplifying, we get:\n",
    "\n",
    "$${}^6C_4 = \\frac{{}^6P_4}{4!} = \\frac{6!}{(6-4)!4!}$$\n",
    "\n",
    "\n",
    "The above result can be generalized as follows:\n",
    "\n",
    "**Combination Rule**: The number of ways of choosing $k$ items out of $n$ items is $\\frac{n!}{(n-k)!k!}$. It is denoted by ${}^nC_k$.\n",
    "\n",
    "$${}^nC_k = \\frac{{}^nP_k}{k!} = \\frac{n!}{(n-k)!k!} = \\frac{n \\times (n-1) \\times \\ldots \\times (n-k+1)}{k \\times (k-1) \\times \\ldots \\times 1}$$\n",
    "\n",
    "Let's write a function to count the number of ways of choosing `k` items out of `n`."
   ]
  },
  {
   "cell_type": "code",
   "execution_count": 88,
   "id": "b37831de",
   "metadata": {},
   "outputs": [],
   "source": [
    "def combinations(n, k):\n",
    "    return permutations(n, k) // factorial(k)"
   ]
  },
  {
   "cell_type": "code",
   "execution_count": 89,
   "id": "02bf811d",
   "metadata": {},
   "outputs": [
    {
     "data": {
      "text/plain": [
       "15"
      ]
     },
     "execution_count": 89,
     "metadata": {},
     "output_type": "execute_result"
    }
   ],
   "source": [
    "combinations(6, 4)"
   ]
  },
  {
   "cell_type": "markdown",
   "id": "de22b66c",
   "metadata": {},
   "source": [
    "Thus, there are 15 ways of choosing 4 people out of 6. Can you verify this by listing out all possible groups?"
   ]
  },
  {
   "cell_type": "markdown",
   "id": "3ab521a0",
   "metadata": {},
   "source": [
    "> **EXERCISE**: In how many ways can 22 soccer players be divided into two teams of 11 players each?"
   ]
  },
  {
   "cell_type": "code",
   "execution_count": null,
   "id": "b55419cd",
   "metadata": {},
   "outputs": [],
   "source": []
  },
  {
   "cell_type": "markdown",
   "id": "659512d3",
   "metadata": {},
   "source": [
    "> **EXERCISE**: In how many ways can you get exactly 3 heads when you toss 10 fair coins?\n"
   ]
  },
  {
   "cell_type": "code",
   "execution_count": null,
   "id": "5b741d41",
   "metadata": {},
   "outputs": [],
   "source": []
  },
  {
   "cell_type": "markdown",
   "id": "24ceb0bb",
   "metadata": {},
   "source": [
    "> **EXERCISE**: Suppose you pick 4 letters from the English alphabet (A to Z). How many words can you create using the 4 letters (you are allowed to use a letter more than once in a word)?"
   ]
  },
  {
   "cell_type": "code",
   "execution_count": null,
   "id": "77303482",
   "metadata": {},
   "outputs": [],
   "source": []
  },
  {
   "cell_type": "markdown",
   "id": "5f21f11a",
   "metadata": {},
   "source": [
    "Let's save our work before continuing."
   ]
  },
  {
   "cell_type": "code",
   "execution_count": 20,
   "id": "1d1010b2",
   "metadata": {},
   "outputs": [
    {
     "data": {
      "application/javascript": [
       "window.require && require([\"base/js/namespace\"],function(Jupyter){Jupyter.notebook.save_checkpoint()})"
      ],
      "text/plain": [
       "<IPython.core.display.Javascript object>"
      ]
     },
     "metadata": {},
     "output_type": "display_data"
    },
    {
     "name": "stdout",
     "output_type": "stream",
     "text": [
      "[jovian] Attempting to save notebook..\u001b[0m\n",
      "[jovian] Updating notebook \"aakashns/counting-permutations-and-combinations\" on https://jovian.ai/\u001b[0m\n",
      "[jovian] Uploading notebook..\u001b[0m\n",
      "[jovian] Capturing environment..\u001b[0m\n",
      "[jovian] Committed successfully! https://jovian.ai/aakashns/counting-permutations-and-combinations\u001b[0m\n"
     ]
    },
    {
     "data": {
      "text/plain": [
       "'https://jovian.ai/aakashns/counting-permutations-and-combinations'"
      ]
     },
     "execution_count": 20,
     "metadata": {},
     "output_type": "execute_result"
    }
   ],
   "source": [
    "jovian.commit()"
   ]
  },
  {
   "cell_type": "markdown",
   "id": "f63eb924",
   "metadata": {},
   "source": [
    "## Probabilities\n",
    "\n",
    "The rules of counting can be applied to compute probabilities events involving repeated experiments (or multiple different kinds of experiments). See this tutorial for a practical introduction to probability: https://jovian.ai/aakashns/introduction-to-probability .\n",
    "\n",
    "> **QUESTION**: If you toss 10 fair coins, what is the probability of getting exactly 3 heads?\n",
    "\n",
    "Since all possible outcomes are equally likely, it follows that\n",
    "\n",
    "$$P(\\textrm{Getting 3 heads}) = \\frac{\\textrm{No. of outcomes with exactly 3 heads}}{\\textrm{Total no. of outcomes}}$$\n",
    "\n",
    "$$\\textrm{Total no. of outcomes} = {2 \\times 2 \\times ... \\times 2}  \\textrm{(10 times)} = 2^{10}$$\n",
    "\n",
    "$$\\textrm{No. of outcomes with exactly 3 heads} = {}^{10}C_3 = \\frac{10!}{(10-3)!3!}$$\n",
    "\n",
    "We can use the functions defined earlier to compute this number."
   ]
  },
  {
   "cell_type": "code",
   "execution_count": 21,
   "id": "49a9f339",
   "metadata": {},
   "outputs": [],
   "source": [
    "total_outcomes = 2**10\n",
    "matching_outcomes = combinations(10, 3)\n",
    "p_3_heads = matching_outcomes / total_outcomes"
   ]
  },
  {
   "cell_type": "code",
   "execution_count": 24,
   "id": "30ba6bf1",
   "metadata": {},
   "outputs": [
    {
     "name": "stdout",
     "output_type": "stream",
     "text": [
      "The probability of getting exactly 3 heads when 10 fair coins are tossed is 0.12 .\n"
     ]
    }
   ],
   "source": [
    "print('The probability of getting exactly 3 heads when 10 fair coins are tossed is {:.2f} .'.format(p_3_heads))"
   ]
  },
  {
   "cell_type": "markdown",
   "id": "b1840ae4",
   "metadata": {},
   "source": [
    "> **QUESTION**: If you pick 5 random cards from a well shuffled deck, what is the probability of getting a flush (all cards of the same suit)?\n",
    "\n",
    "We can determine the total no. of outcomes by counting the number of ways of picking 5 cards out of a deck of 52 cards.\n",
    "\n",
    "$$\\textrm{Total no. of outcomes} = {}^{52}C_5$$\n",
    "\n",
    "To count the number of outcomes, we can first determine the suit in 4 ways, and then pick of 5 out of 13 cards in the suit.\n",
    "\n",
    "$$\\textrm{Matching outcomes} = 4 \\times {}^{13}C_5$$\n",
    "\n",
    "We can now compute the probability that all 5 cards belong to the same suit."
   ]
  },
  {
   "cell_type": "code",
   "execution_count": 25,
   "id": "72af8a0a",
   "metadata": {},
   "outputs": [],
   "source": [
    "total_outcomes = combinations(52, 5)\n",
    "matching_outcomes = 4 * combinations(13, 5)\n",
    "p_flush = matching_outcomes / total_outcomes"
   ]
  },
  {
   "cell_type": "code",
   "execution_count": 31,
   "id": "817e12a8",
   "metadata": {},
   "outputs": [
    {
     "name": "stdout",
     "output_type": "stream",
     "text": [
      "If 5 cards are picked from well shuffled deck, the probability of getting a flush is 0.002 .\n"
     ]
    }
   ],
   "source": [
    "print('If 5 cards are picked from well shuffled deck, the probability of getting a flush is {:.3f} .'.format(p_flush))"
   ]
  },
  {
   "cell_type": "markdown",
   "id": "d559773a",
   "metadata": {},
   "source": [
    "> **EXERCISE**: If you toss 12 fair coins what is the probablity of getting 7 or more heads?\n",
    "> \n",
    "> *Hint*: $P(\\textrm{7 or more heads}) = P(\\textrm{7 heads}) + P(\\textrm{8 heads}) + P(\\textrm{9 heads}) + \\ldots$"
   ]
  },
  {
   "cell_type": "code",
   "execution_count": null,
   "id": "841b621b",
   "metadata": {},
   "outputs": [],
   "source": []
  },
  {
   "cell_type": "markdown",
   "id": "6ce1886d",
   "metadata": {},
   "source": [
    "> **EXERCISE**: If you roll 6 fair dice together, what is the probablity of getting six different numbers in the result?"
   ]
  },
  {
   "cell_type": "code",
   "execution_count": null,
   "id": "a49ef955",
   "metadata": {},
   "outputs": [],
   "source": []
  },
  {
   "cell_type": "markdown",
   "id": "0fc71a6d",
   "metadata": {},
   "source": [
    "> **EXERCISE**: If you flip a coin, roll a die and pick a random card from a well-shuffled deck, what is the probability of getting a tail, an even number and a spade?"
   ]
  },
  {
   "cell_type": "code",
   "execution_count": null,
   "id": "deac20b3",
   "metadata": {},
   "outputs": [],
   "source": []
  },
  {
   "cell_type": "markdown",
   "id": "3adc41b1",
   "metadata": {},
   "source": [
    "> **EXERCISE**: If you roll 3 fair dice, what is the probability of getting a sum lower than 6?"
   ]
  },
  {
   "cell_type": "code",
   "execution_count": null,
   "id": "416fe724",
   "metadata": {},
   "outputs": [],
   "source": []
  },
  {
   "cell_type": "markdown",
   "id": "1f89c182",
   "metadata": {},
   "source": [
    "Let's save our work before continuing."
   ]
  },
  {
   "cell_type": "code",
   "execution_count": 2,
   "id": "09589841",
   "metadata": {},
   "outputs": [
    {
     "data": {
      "application/javascript": [
       "window.require && require([\"base/js/namespace\"],function(Jupyter){Jupyter.notebook.save_checkpoint()})"
      ],
      "text/plain": [
       "<IPython.core.display.Javascript object>"
      ]
     },
     "metadata": {},
     "output_type": "display_data"
    },
    {
     "name": "stdout",
     "output_type": "stream",
     "text": [
      "[jovian] Attempting to save notebook..\u001b[0m\n",
      "[jovian] Uploading notebook..\u001b[0m\n",
      "[jovian] Capturing environment..\u001b[0m\n",
      "[jovian] Committed successfully! https://jovian.ai/aakashns/counting-permutations-and-combinations\u001b[0m\n"
     ]
    },
    {
     "data": {
      "text/plain": [
       "'https://jovian.ai/aakashns/counting-permutations-and-combinations'"
      ]
     },
     "execution_count": 2,
     "metadata": {},
     "output_type": "execute_result"
    }
   ],
   "source": [
    "jovian.commit()"
   ]
  },
  {
   "cell_type": "markdown",
   "id": "c85a3358",
   "metadata": {},
   "source": [
    "Let's save our work before continuing."
   ]
  },
  {
   "cell_type": "code",
   "execution_count": 2,
   "id": "6b0024fb",
   "metadata": {},
   "outputs": [
    {
     "data": {
      "application/javascript": [
       "window.require && require([\"base/js/namespace\"],function(Jupyter){Jupyter.notebook.save_checkpoint()})"
      ],
      "text/plain": [
       "<IPython.core.display.Javascript object>"
      ]
     },
     "metadata": {},
     "output_type": "display_data"
    },
    {
     "name": "stdout",
     "output_type": "stream",
     "text": [
      "[jovian] Attempting to save notebook..\u001b[0m\n",
      "[jovian] Uploading notebook..\u001b[0m\n",
      "[jovian] Capturing environment..\u001b[0m\n",
      "[jovian] Committed successfully! https://jovian.ai/aakashns/counting-permutations-and-combinations\u001b[0m\n"
     ]
    },
    {
     "data": {
      "text/plain": [
       "'https://jovian.ai/aakashns/counting-permutations-and-combinations'"
      ]
     },
     "execution_count": 2,
     "metadata": {},
     "output_type": "execute_result"
    }
   ],
   "source": [
    "jovian.commit()"
   ]
  },
  {
   "cell_type": "markdown",
   "id": "2a2781c7",
   "metadata": {},
   "source": [
    "## Summary and Further Reading\n",
    "\n",
    "Here are the topics we've covered in this notebook:\n",
    "\n",
    "\n",
    "1. **Multiplication Principle**:  If we have $k$ independent choices to make, and the number of options for each choice are $x_1, x_2, x_3, \\ldots, x_k$, then we can make all of the choices in $x_1 \\times x_2 \\times x_3 \\times \\ldots \\times x_k$ ways.\n",
    "\n",
    "\n",
    "2. **Repeated choice rule**: A special case of the multiplication principle is when the number of options is the same for each choice. If we have $k$ independent choices to make, and the number of options for each choice is $n$, then we can make all the choices in $n^k$ ways.\n",
    "\n",
    "\n",
    "2. **Factorial Rule**: The number of ways of arranging $n$ items in list is $n!$ i.e. $n \\times (n-1) \\times (n-2) \\times \\ldots \\times 2 \\times 1 $.\n",
    "\n",
    "\n",
    "3. **Permutation rule**: The number of ways of arranging $k$ items in a list out of $n$ items is $n!/(n-k)!$. This number is also denoted as ${}^nP_k$.\n",
    "\n",
    "$${}^nP_k = \\frac{n!}{(n-k)!} = n \\times (n-1) \\times \\ldots \\times (n-k+1)$$\n",
    "\n",
    "\n",
    "4. **Combination Rule**: The number of ways of choosing $k$ items out of $n$ items is $\\frac{n!}{(n-k)!k!}$. It is denoted by ${}^nC_k$.\n",
    "\n",
    "$${}^nC_k = \\frac{{}^nP_k}{k!} = \\frac{n!}{(n-k)!k!} = \\frac{n \\times (n-1) \\times \\ldots \\times (n-k+1)}{k \\times (k-1) \\times \\ldots \\times 1}$$\n",
    "\n",
    "\n",
    "5. **Probability**: The rules of counting can be applied to compute probabilities events involving repeated experiments (or multiple different kinds of experiments).\n",
    "\n",
    "\n",
    "Resources to learn more:\n",
    "\n",
    "* Khan Academy: https://www.khanacademy.org/math/statistics-probability/counting-permutations-and-combinations\n",
    "* Permutations and Combinations problems: https://www.analyzemath.com/statistics/permutations_combinations.html\n",
    "* Better Explained: https://betterexplained.com/articles/easy-permutations-and-combinations/"
   ]
  },
  {
   "cell_type": "markdown",
   "id": "da358646",
   "metadata": {},
   "source": [
    "## Questions for Revision\n",
    "1.\tExplain multiplication rule with an example.\n",
    "2.\tWhat is the special case of multiplication rule?\n",
    "3.\tIn how many ways can we makes choices when the number of independent choices is 'q' and number of options for each choice is 'r'?\n",
    "4.\tWhere do we generally come across the repeated choice rule?\n",
    "5.\tWhat is the factorial rule?\n",
    "6.\tThere are 10 benches in a classroom placed one after another. In how many ways can the 10 students be seated on the benches for an examination?\n",
    "7.\tWhat are some examples of permutations and combinations that we come across on a daily basis?\n",
    "8.\tHow can you identify that a problem refers to either permutation or combination?\n",
    "9.\tHow is permutation different from combination?\n",
    "10.\tIs there any relationship between permutation and combination? If so, what is it?\n",
    "11.\tWhat are the rules of counting that can be applied to compute probabilities? \n",
    "12.\tGive an example for permutation when repetition is allowed and when repetition is not allowed.\n",
    "13.\tGive an example for combination when repetition is allowed and when repetition is not allowed.\n",
    "14.\tYou have 7 ice-cream flavours say- chocolate, tender coconut, mango, pistachio, vanilla, butterscotch, and blackcurrant. You choose any four flavours in each cup. How many variations can there be? \n",
    "15.\tIn how many ways can the word JOVIAN be arranged?"
   ]
  },
  {
   "cell_type": "markdown",
   "id": "387b4316",
   "metadata": {},
   "source": [
    "## Solutions for Exercises"
   ]
  },
  {
   "cell_type": "markdown",
   "id": "04256fc0",
   "metadata": {},
   "source": [
    "### Multiplication Principle of Counting\n",
    "\n",
    "If we have $k$ independent choices to make, and the number of options for each choice are $x_1, x_2, x_3, \\ldots, x_k$, then we can make all of the choices in $x_1 \\times x_2 \\times x_3 \\times \\ldots \\times x_k$ ways.\n",
    "\n",
    "\n",
    "**Repeated Choice Rule**: If we have $k$ independent choices to make, and the number of options for each choice is $n$, then we can make all the choices in $n^k$ ways."
   ]
  },
  {
   "cell_type": "markdown",
   "id": "db4727da",
   "metadata": {},
   "source": [
    "> **EXERCISE**: If you flip 10 coins, how many possible outcomes can you get?\n",
    "\n",
    "- We have two options for each choice i.e Heads or Tails\n",
    "- And we have a total of 'k' independent Choices = 10\n",
    "- Option for each choice = n = 2"
   ]
  },
  {
   "cell_type": "code",
   "execution_count": 2,
   "id": "4a88bdc0",
   "metadata": {},
   "outputs": [
    {
     "data": {
      "text/plain": [
       "1024"
      ]
     },
     "execution_count": 2,
     "metadata": {},
     "output_type": "execute_result"
    }
   ],
   "source": [
    "k = 10\n",
    "n = 2\n",
    "n_outcomes = n**k\n",
    "n_outcomes "
   ]
  },
  {
   "cell_type": "markdown",
   "id": "4035da84",
   "metadata": {},
   "source": [
    "> **EXERCISE**: If you roll 6 fair dice, how many possible outcomes can you get?\n",
    "\n",
    "- Each die can return a number between 1 and 6 at each roll, therefore number of options at each independent choice is n = 6\n",
    "\n",
    "- the number of independant choices(k) = 6\n",
    "\n",
    "- There fore total outcomes can be: "
   ]
  },
  {
   "cell_type": "code",
   "execution_count": 3,
   "id": "fe7ce07a",
   "metadata": {},
   "outputs": [
    {
     "data": {
      "text/plain": [
       "46656"
      ]
     },
     "execution_count": 3,
     "metadata": {},
     "output_type": "execute_result"
    }
   ],
   "source": [
    "k = 6\n",
    "n = 6\n",
    "n**k"
   ]
  },
  {
   "cell_type": "markdown",
   "id": "9357c409",
   "metadata": {},
   "source": [
    "> **EXERCISE**: If you flip a coin, roll a die and pick a random card from a well-shuffled deck, how many possible outcomes can you get?\n",
    "\n",
    "- Sample outcomes could be: (H,6,Spade-7), (H,1, Heart-11) and so on, \n",
    "\n",
    "So, \n",
    "- *Flipping a coin:* gives us 2 options on one throw, $=x_1$\n",
    "- *Rolling a die:* 6 options on one throw, $=x_2$ and\n",
    "- *Picking a card:* 52 options in one throw,$=x_3$\n",
    "\n",
    "- So possible number of outcomes will be $= x_1 \\times x_2 \\times x_3$"
   ]
  },
  {
   "cell_type": "code",
   "execution_count": 4,
   "id": "7365d874",
   "metadata": {},
   "outputs": [
    {
     "data": {
      "text/plain": [
       "624"
      ]
     },
     "execution_count": 4,
     "metadata": {},
     "output_type": "execute_result"
    }
   ],
   "source": [
    "2*6*52"
   ]
  },
  {
   "cell_type": "markdown",
   "id": "dd68059a",
   "metadata": {},
   "source": [
    "### Factorials"
   ]
  },
  {
   "cell_type": "markdown",
   "id": "5f0c0fbe",
   "metadata": {},
   "source": [
    "> **QUESTION:** In how many ways can you seat 5 people on chairs numbered from 1 to 5?"
   ]
  },
  {
   "cell_type": "code",
   "execution_count": 3,
   "id": "eabf2288",
   "metadata": {},
   "outputs": [],
   "source": [
    "def factorial(n):\n",
    "    result = 1\n",
    "    for i in range(1, n+1):\n",
    "        result = result * i\n",
    "    return result"
   ]
  },
  {
   "cell_type": "code",
   "execution_count": 4,
   "id": "34f74fe5",
   "metadata": {},
   "outputs": [
    {
     "data": {
      "text/plain": [
       "120"
      ]
     },
     "execution_count": 4,
     "metadata": {},
     "output_type": "execute_result"
    }
   ],
   "source": [
    "factorial(5)"
   ]
  },
  {
   "cell_type": "markdown",
   "id": "8a319f9f",
   "metadata": {},
   "source": [
    "> **EXERCISE**: If you pick out all the spades from a deck of cards, in how many ways can you arrange them in your hand?\n",
    "> \n",
    "> ![](https://i.imgur.com/XVscmAe.png)\n",
    ">\n",
    "\n",
    "\n",
    "- Total number of spades: 13\n",
    "- Number of ways to arrange 'n' things in a sequence: factorial(n)"
   ]
  },
  {
   "cell_type": "code",
   "execution_count": 5,
   "id": "b8ca3772",
   "metadata": {},
   "outputs": [
    {
     "data": {
      "text/plain": [
       "6227020800"
      ]
     },
     "execution_count": 5,
     "metadata": {},
     "output_type": "execute_result"
    }
   ],
   "source": [
    "factorial(13)"
   ]
  },
  {
   "cell_type": "markdown",
   "id": "a32db812",
   "metadata": {},
   "source": [
    "> **EXERCISE**: If you roll 6 dice together, in how many ways can you get 6 different numbers in the result e.g.  3,4,5,6,1,2.\n",
    "\n",
    "- Total combinations when we roll 6 die's together $= 6^6 = 46656$ \n",
    "- Getting 6 different numbers at each throw = $6\\times5\\times4\\times3\\times2\\times1 $ i.e $6!$"
   ]
  },
  {
   "cell_type": "code",
   "execution_count": 9,
   "id": "89c66f76",
   "metadata": {},
   "outputs": [
    {
     "data": {
      "text/plain": [
       "720"
      ]
     },
     "execution_count": 9,
     "metadata": {},
     "output_type": "execute_result"
    }
   ],
   "source": [
    "factorial(6)"
   ]
  },
  {
   "cell_type": "markdown",
   "id": "902b7eb1",
   "metadata": {},
   "source": [
    "### Permutations"
   ]
  },
  {
   "cell_type": "code",
   "execution_count": 4,
   "id": "0aff2bca",
   "metadata": {},
   "outputs": [],
   "source": [
    "def permutations(n, k):\n",
    "    return factorial(n) // factorial(n-k)"
   ]
  },
  {
   "cell_type": "markdown",
   "id": "c2e18488",
   "metadata": {},
   "source": [
    "> **EXERCISE**: You have 25 books but your bookshelf contains space for just 12 books. In how many ways can you arrange books on your bookshelf?\n",
    "\n",
    "-  $25$ Total Books and Space for $12$  \n",
    "- Using Permutations, ${}^nP_k = \\frac{n!}{(n-k)!}$\n",
    "- $n = 25, k = 12$"
   ]
  },
  {
   "cell_type": "code",
   "execution_count": 5,
   "id": "97fdea06",
   "metadata": {},
   "outputs": [
    {
     "data": {
      "text/plain": [
       "2490952020480000"
      ]
     },
     "execution_count": 5,
     "metadata": {},
     "output_type": "execute_result"
    }
   ],
   "source": [
    "permutations(25,12)"
   ]
  },
  {
   "cell_type": "markdown",
   "id": "fecd6030",
   "metadata": {},
   "source": [
    "> **EXERCISE**: How many unique four letter words can you create using the English alphabet (A to Z)?\n",
    "\n",
    "- Note that: while we are creating a word we can use repeated alphabets.\n",
    "- We have 26 Total alphabets \n",
    "- We have to create a word of 4 characters, meaning we have 26 options for each individual choice of the 4 letters. \n",
    "\n",
    "- So, using *Repeated Choice Rule*, we have $n^k = {26}^4$ options to choose from.  "
   ]
  },
  {
   "cell_type": "code",
   "execution_count": 6,
   "id": "01afa2b3",
   "metadata": {},
   "outputs": [
    {
     "data": {
      "text/plain": [
       "456976"
      ]
     },
     "execution_count": 6,
     "metadata": {},
     "output_type": "execute_result"
    }
   ],
   "source": [
    "k = 4\n",
    "n = 26\n",
    "\n",
    "n**k"
   ]
  },
  {
   "cell_type": "markdown",
   "id": "63d19a8e",
   "metadata": {},
   "source": [
    "> **EXERCISE**: How many unique four letter words can you create using the English alphabet (A to Z), if you aren't allowed to use a letter more than once?\n",
    "\n",
    "- Since we cannot use a letter more than once, we are left with a permutation of arranging 26 alphabets into 4 letters.\n",
    "- ${}^nP_k = ^{26}P_4$"
   ]
  },
  {
   "cell_type": "code",
   "execution_count": 7,
   "id": "4447608a",
   "metadata": {},
   "outputs": [
    {
     "data": {
      "text/plain": [
       "358800"
      ]
     },
     "execution_count": 7,
     "metadata": {},
     "output_type": "execute_result"
    }
   ],
   "source": [
    "permutations(26,4)"
   ]
  },
  {
   "cell_type": "markdown",
   "id": "11a8381c",
   "metadata": {},
   "source": [
    "> **EXERCISE**: How many 3 digit numbers greater than 300 can you create using the digit 1, 2, 3, 5, 7 and 8? You are not allowed to use a digit more than once. How many of these numbers are odd?\n",
    "\n",
    "**Solution:**\n",
    "- Let's consider 2 Sets depending on first digit for our three digit number: (We can only choose from 3,5,7,8 to make our number > 300)\n",
    "    - (odd) Set 1: Where first digit can be: 3 _ _,5 _ _,7 _ _ \n",
    "    - (even) Set 2: Where first digit can be: 8 _ _  \n",
    "    \n",
    "- Set 1: \n",
    "    - First digit: 3 options to choose from as mentioned above.\n",
    "    - Last digit: {1,3,5,7}i.e 4 options to make our number odd, but one of 3,5,7 has already been used so 3 options to choose from.  \n",
    "    - Middle digit: 6 total options but 2 have been used already so 4 options to choose from. \n",
    "    - So for Set-1, there are $3\\times3\\times4 $ possible ways.\n",
    "- Set 2: \n",
    "    - First digit: 1 option as mentioned above.\n",
    "    - Last digit: {1,3,5,7}i.e 4 options to make our number odd, so 4 options to choose from.  \n",
    "    - Middle digit: 6 total options but 2 have been used already so 4 options to choose from. \n",
    "    - So for Set-1, there are $1\\times4\\times4 $ possible ways."
   ]
  },
  {
   "cell_type": "code",
   "execution_count": 6,
   "id": "27b5cadd",
   "metadata": {},
   "outputs": [
    {
     "data": {
      "text/plain": [
       "52"
      ]
     },
     "execution_count": 6,
     "metadata": {},
     "output_type": "execute_result"
    }
   ],
   "source": [
    "set_1 = 3*3*4\n",
    "set_2 = 1*4*4\n",
    "\n",
    "total_nums = set_1 + set_2\n",
    "total_nums"
   ]
  },
  {
   "cell_type": "code",
   "execution_count": null,
   "id": "abbbe843",
   "metadata": {},
   "outputs": [],
   "source": []
  },
  {
   "cell_type": "markdown",
   "id": "62cd272b",
   "metadata": {},
   "source": [
    "> **EXERCISE**: In how many ways can you arrange 12 people in a circle?\n",
    "> \n",
    "> <img src=\"https://i.imgur.com/J738ur4.png\" width=\"360\">\n",
    "\n",
    "**Solution:**\n",
    "\n",
    " **Circular Permutations:** Unlike linear arrangements, circular arrangements don't have a start and an end. For linear arrangements, total number of ways to arrange n objects is n! But for circular permutations total number of ways to arrange n objects is (n-1)!\n",
    "\n",
    "Read more about [Circular Permutations](https://doubleroot.in/lessons/permutations-combinations/circular-permutations/)\n",
    "\n",
    "- 12 people, therefore (12-1)! = 11!"
   ]
  },
  {
   "cell_type": "code",
   "execution_count": 7,
   "id": "97661abb",
   "metadata": {},
   "outputs": [
    {
     "data": {
      "text/plain": [
       "39916800"
      ]
     },
     "execution_count": 7,
     "metadata": {},
     "output_type": "execute_result"
    }
   ],
   "source": [
    "factorial(11)"
   ]
  },
  {
   "cell_type": "markdown",
   "id": "936f9d67",
   "metadata": {},
   "source": [
    "### Combinations"
   ]
  },
  {
   "cell_type": "code",
   "execution_count": 9,
   "id": "f3d557b3",
   "metadata": {},
   "outputs": [],
   "source": [
    "def combinations(n, k):\n",
    "    return permutations(n, k) // factorial(k)"
   ]
  },
  {
   "cell_type": "markdown",
   "id": "2c69b3c3",
   "metadata": {},
   "source": [
    "> **EXERCISE**: In how many ways can 22 soccer players be divided into two teams of 11 players each?\n",
    "\n",
    "- After we choose 11 players, other 11 are automatically chosen. "
   ]
  },
  {
   "cell_type": "code",
   "execution_count": 11,
   "id": "043e785e",
   "metadata": {},
   "outputs": [
    {
     "data": {
      "text/plain": [
       "705432"
      ]
     },
     "execution_count": 11,
     "metadata": {},
     "output_type": "execute_result"
    }
   ],
   "source": [
    "combinations(22,11)"
   ]
  },
  {
   "cell_type": "markdown",
   "id": "ee0da6fe",
   "metadata": {},
   "source": [
    "> **EXERCISE**: In how many ways can you get exactly 3 heads when you toss 10 fair coins?\n"
   ]
  },
  {
   "cell_type": "code",
   "execution_count": 12,
   "id": "5c248df0",
   "metadata": {},
   "outputs": [
    {
     "data": {
      "text/plain": [
       "120"
      ]
     },
     "execution_count": 12,
     "metadata": {},
     "output_type": "execute_result"
    }
   ],
   "source": [
    "combinations(10,3)"
   ]
  },
  {
   "cell_type": "markdown",
   "id": "ed78d2b6",
   "metadata": {},
   "source": [
    "> **EXERCISE**: Suppose you pick 4 letters from the English alphabet (A to Z). How many words can you create using the 4 letters (you are allowed to use a letter more than once in a word)?\n",
    "\n",
    "- For Picking 4 alphabets we have $^{26}C_4$ ways.\n",
    "- Since letter can be repeated \n",
    "- Using Multiplication rule: k = 4, x = 4\n"
   ]
  },
  {
   "cell_type": "code",
   "execution_count": 23,
   "id": "a8414cbc",
   "metadata": {},
   "outputs": [
    {
     "data": {
      "text/plain": [
       "3827200"
      ]
     },
     "execution_count": 23,
     "metadata": {},
     "output_type": "execute_result"
    }
   ],
   "source": [
    "combinations(26,4) * (4**4)"
   ]
  },
  {
   "cell_type": "markdown",
   "id": "178d4932",
   "metadata": {},
   "source": [
    "### Probabilities"
   ]
  },
  {
   "cell_type": "markdown",
   "id": "7496f5d6",
   "metadata": {},
   "source": [
    "> **EXERCISE**: If you toss 12 fair coins what is the probablity of getting 7 or more heads?\n",
    "> \n",
    "> *Hint*: $P(\\textrm{7 or more heads}) = P(\\textrm{7 heads}) + P(\\textrm{8 heads}) + P(\\textrm{9 heads}) + \\ldots$\n",
    "\n",
    "- $P(\\textrm{7 heads}) = ^7C_3 /$ Total_outcomes \n",
    "- $P(\\textrm{8 heads}) = ^8C_3 / $Total_outcomes \n",
    "- $P(\\textrm{9 heads}) = ^9C_3 / $Total_outcomes \n",
    "- $P(\\textrm{10 heads}) =^{10}C_3 / $Total_outcomes \n",
    "- $P(\\textrm{11 heads}) =^{11}C_3 / $Total_outcomes \n",
    "- $P(\\textrm{12 heads}) =^{12}C_3 / $Total_outcomes "
   ]
  },
  {
   "cell_type": "code",
   "execution_count": 16,
   "id": "31ad4bd0",
   "metadata": {},
   "outputs": [],
   "source": [
    "seven_h = combinations(12,7)\n",
    "eight_h = combinations(12,8)\n",
    "nine_h = combinations(12,9)\n",
    "ten_h = combinations(12,10)\n",
    "eleven_h = combinations(12,11)\n",
    "twelve_h = combinations(12,12)"
   ]
  },
  {
   "cell_type": "code",
   "execution_count": 15,
   "id": "3d94b313",
   "metadata": {},
   "outputs": [
    {
     "data": {
      "text/plain": [
       "4096"
      ]
     },
     "execution_count": 15,
     "metadata": {},
     "output_type": "execute_result"
    }
   ],
   "source": [
    "Total_outcomes = 2**12\n",
    "Total_outcomes"
   ]
  },
  {
   "cell_type": "code",
   "execution_count": 17,
   "id": "bfb7cbd0",
   "metadata": {},
   "outputs": [
    {
     "data": {
      "text/plain": [
       "0.38720703125"
      ]
     },
     "execution_count": 17,
     "metadata": {},
     "output_type": "execute_result"
    }
   ],
   "source": [
    "(seven_h + eight_h +nine_h + ten_h + eleven_h + twelve_h) / Total_outcomes"
   ]
  },
  {
   "cell_type": "code",
   "execution_count": null,
   "id": "cdab1151",
   "metadata": {},
   "outputs": [],
   "source": []
  },
  {
   "cell_type": "markdown",
   "id": "b03d9bf0",
   "metadata": {},
   "source": [
    "> **EXERCISE**: If you roll 6 fair dice together, what is the probablity of getting six different numbers in the result?\n",
    "\n",
    "- Total Outcomes = $6^6$ \n",
    "- 6 options for first dice, 5 for the second and so on...\n",
    "- Therefore, 6! shall be our answer!"
   ]
  },
  {
   "cell_type": "code",
   "execution_count": 18,
   "id": "34baa74b",
   "metadata": {},
   "outputs": [
    {
     "data": {
      "text/plain": [
       "720"
      ]
     },
     "execution_count": 18,
     "metadata": {},
     "output_type": "execute_result"
    }
   ],
   "source": [
    "factorial(6)"
   ]
  },
  {
   "cell_type": "code",
   "execution_count": 25,
   "id": "2887409c",
   "metadata": {},
   "outputs": [
    {
     "data": {
      "text/plain": [
       "0.015432098765432098"
      ]
     },
     "execution_count": 25,
     "metadata": {},
     "output_type": "execute_result"
    }
   ],
   "source": [
    "probability = factorial(6) / (6**6)\n",
    "probability"
   ]
  },
  {
   "cell_type": "markdown",
   "id": "c0201a85",
   "metadata": {},
   "source": [
    "> **EXERCISE**: If you flip a coin, roll a die and pick a random card from a well-shuffled deck, what is the probability of getting a tail, an even number and a spade?\n",
    "\n",
    "\n",
    "- A - event of flipping a coin and getting a tail - $P(A) =  1\\div2$\n",
    "- B - event of rolling a die to get an even num - $P(B) = 3\\div6$\n",
    "- C - event, picking a random card and getting a spade - $P(C) = 13\\div52$\n",
    "- Since al three are independent events, $P(A)\\times P(B) \\times P(C) $ "
   ]
  },
  {
   "cell_type": "code",
   "execution_count": 19,
   "id": "1af70285",
   "metadata": {},
   "outputs": [
    {
     "data": {
      "text/plain": [
       "0.0625"
      ]
     },
     "execution_count": 19,
     "metadata": {},
     "output_type": "execute_result"
    }
   ],
   "source": [
    "p_a = 1/2\n",
    "p_b = 1/2\n",
    "p_c = 13/52\n",
    "\n",
    "p_a * p_b * p_c"
   ]
  },
  {
   "cell_type": "markdown",
   "id": "f814e779",
   "metadata": {},
   "source": [
    "> **EXERCISE**: If you roll 3 fair dice, what is the probability of getting a sum lower than 6?\n",
    "\n",
    "- We can create a sample space for getting the sum lower than 6.\n",
    "- (1,1,1) (1,1,2) (1,2,1) (1,1,3) (1,3,1) (2,1,1) (2,2,1) (2,1,2) (3,1,1) (1,3,1) = 10 in Total\n",
    "- Total_outcomes = $6^3$"
   ]
  },
  {
   "cell_type": "code",
   "execution_count": 21,
   "id": "66d37f55",
   "metadata": {},
   "outputs": [
    {
     "data": {
      "text/plain": [
       "0.046296296296296294"
      ]
     },
     "execution_count": 21,
     "metadata": {},
     "output_type": "execute_result"
    }
   ],
   "source": [
    "Total_probability = 10/(6**3)\n",
    "Total_probability"
   ]
  }
 ],
 "metadata": {
  "kernelspec": {
   "display_name": "Python 3 (ipykernel)",
   "language": "python",
   "name": "python3"
  },
  "language_info": {
   "codemirror_mode": {
    "name": "ipython",
    "version": 3
   },
   "file_extension": ".py",
   "mimetype": "text/x-python",
   "name": "python",
   "nbconvert_exporter": "python",
   "pygments_lexer": "ipython3",
   "version": "3.9.7"
  }
 },
 "nbformat": 4,
 "nbformat_minor": 5
}
